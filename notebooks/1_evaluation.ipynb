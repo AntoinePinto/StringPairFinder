{
  "cells": [
    {
      "cell_type": "markdown",
      "metadata": {},
      "source": [
        "# Evaluation"
      ]
    },
    {
      "cell_type": "markdown",
      "metadata": {},
      "source": [
        "Let's compare StringPairFinder with the popular String Mating tool \"FuzzyWuzzy\"."
      ]
    },
    {
      "cell_type": "code",
      "execution_count": 1,
      "metadata": {},
      "outputs": [],
      "source": [
        "# !pip install fuzzywuzzy"
      ]
    },
    {
      "cell_type": "code",
      "execution_count": null,
      "metadata": {
        "id": "Ilyi1TdG-4NK"
      },
      "outputs": [],
      "source": [
        "import pandas as pd\n",
        "import stringpairfinder as spf\n",
        "\n",
        "from fuzzywuzzy import fuzz"
      ]
    },
    {
      "cell_type": "markdown",
      "metadata": {},
      "source": [
        "Using the `fuzz.ratio` method (the method used to compute the similarity in FuzzyWuzzy), let's create the equivalent of the `match_strings` function of StringPairFinder :"
      ]
    },
    {
      "cell_type": "code",
      "execution_count": 3,
      "metadata": {},
      "outputs": [],
      "source": [
        "def fuzzywuzzy_match_strings(source_strings, target_strings):\n",
        "    mapping = {}\n",
        "    for string in source_strings:\n",
        "      _, max_index = max((fuzz.ratio(spf.clean_string(string), spf.clean_string(option)), index) for index, option in enumerate(target_strings))\n",
        "      mapping[string] = target_strings[max_index]\n",
        "\n",
        "    return mapping"
      ]
    },
    {
      "cell_type": "markdown",
      "metadata": {
        "id": "H5Jtu_iY-12i"
      },
      "source": [
        "The dataset used for this example contains 300 differently coded company names. The objective is to use an algorithm to find the corresponding pairs."
      ]
    },
    {
      "cell_type": "code",
      "execution_count": 4,
      "metadata": {
        "colab": {
          "base_uri": "https://localhost:8080/",
          "height": 423
        },
        "id": "ojkl4J_K-12j",
        "outputId": "418eeeb4-cb4b-49e1-aca0-326357dd6692"
      },
      "outputs": [
        {
          "data": {
            "text/html": [
              "<div>\n",
              "<style scoped>\n",
              "    .dataframe tbody tr th:only-of-type {\n",
              "        vertical-align: middle;\n",
              "    }\n",
              "\n",
              "    .dataframe tbody tr th {\n",
              "        vertical-align: top;\n",
              "    }\n",
              "\n",
              "    .dataframe thead th {\n",
              "        text-align: right;\n",
              "    }\n",
              "</style>\n",
              "<table border=\"1\" class=\"dataframe\">\n",
              "  <thead>\n",
              "    <tr style=\"text-align: right;\">\n",
              "      <th></th>\n",
              "      <th>list1</th>\n",
              "      <th>list2</th>\n",
              "    </tr>\n",
              "  </thead>\n",
              "  <tbody>\n",
              "    <tr>\n",
              "      <th>0</th>\n",
              "      <td>UroLogix</td>\n",
              "      <td>UROLOGIX</td>\n",
              "    </tr>\n",
              "    <tr>\n",
              "      <th>1</th>\n",
              "      <td>Tesla Motors</td>\n",
              "      <td>TESLA INC</td>\n",
              "    </tr>\n",
              "    <tr>\n",
              "      <th>2</th>\n",
              "      <td>Lopez, John</td>\n",
              "      <td>John Lopez</td>\n",
              "    </tr>\n",
              "    <tr>\n",
              "      <th>3</th>\n",
              "      <td>TSC Group</td>\n",
              "      <td>TSC INC</td>\n",
              "    </tr>\n",
              "    <tr>\n",
              "      <th>4</th>\n",
              "      <td>Bockorny Group</td>\n",
              "      <td>BOCKORNY GROUP</td>\n",
              "    </tr>\n",
              "    <tr>\n",
              "      <th>...</th>\n",
              "      <td>...</td>\n",
              "      <td>...</td>\n",
              "    </tr>\n",
              "    <tr>\n",
              "      <th>995</th>\n",
              "      <td>PaxVax Inc</td>\n",
              "      <td>PaxVax, Inc.</td>\n",
              "    </tr>\n",
              "    <tr>\n",
              "      <th>996</th>\n",
              "      <td>Biocatalytics</td>\n",
              "      <td>BIOCATALYTICS</td>\n",
              "    </tr>\n",
              "    <tr>\n",
              "      <th>997</th>\n",
              "      <td>Support Kids</td>\n",
              "      <td>SUPPORT KIDS</td>\n",
              "    </tr>\n",
              "    <tr>\n",
              "      <th>998</th>\n",
              "      <td>CancerVax Corp</td>\n",
              "      <td>CANCERVAX CORP</td>\n",
              "    </tr>\n",
              "    <tr>\n",
              "      <th>999</th>\n",
              "      <td>NRP Group</td>\n",
              "      <td>The NRP Group</td>\n",
              "    </tr>\n",
              "  </tbody>\n",
              "</table>\n",
              "<p>1000 rows × 2 columns</p>\n",
              "</div>"
            ],
            "text/plain": [
              "              list1           list2\n",
              "0          UroLogix        UROLOGIX\n",
              "1      Tesla Motors       TESLA INC\n",
              "2       Lopez, John      John Lopez\n",
              "3         TSC Group         TSC INC\n",
              "4    Bockorny Group  BOCKORNY GROUP\n",
              "..              ...             ...\n",
              "995      PaxVax Inc    PaxVax, Inc.\n",
              "996   Biocatalytics   BIOCATALYTICS\n",
              "997    Support Kids    SUPPORT KIDS\n",
              "998  CancerVax Corp  CANCERVAX CORP\n",
              "999       NRP Group   The NRP Group\n",
              "\n",
              "[1000 rows x 2 columns]"
            ]
          },
          "execution_count": 4,
          "metadata": {},
          "output_type": "execute_result"
        }
      ],
      "source": [
        "companies = pd.read_csv('data/companies.csv').iloc[0:1000]\n",
        "companies"
      ]
    },
    {
      "cell_type": "markdown",
      "metadata": {
        "id": "2n__tx47-12l"
      },
      "source": [
        "Let's simulate a situation where we have two lists containing the names of companies completely mixed up."
      ]
    },
    {
      "cell_type": "code",
      "execution_count": 5,
      "metadata": {
        "colab": {
          "base_uri": "https://localhost:8080/"
        },
        "id": "JAl6obN5-12l",
        "outputId": "d460c673-ad63-4c54-e551-e4b4aa9c5996"
      },
      "outputs": [
        {
          "name": "stdout",
          "output_type": "stream",
          "text": [
            "Subsample of list 1: \n",
            " ['From the Top', 'Rex Systems', 'David & Malito', 'Intrafusion', 'Owens-Illinois', 'US Oncology', 'Dueco Inc', 'Algoma Steel']\n",
            "\n",
            "Subample of list 2: \n",
            " ['BBK', 'Duffin Newman', 'HARSCO CORP', 'HASTINGS, NE', 'Solazyme Inc', 'HALE & DORR', 'MEGAXESS, INC', 'WELLMARK INC']\n"
          ]
        }
      ],
      "source": [
        "list1 = companies['list1'].sample(frac=1).to_list()\n",
        "list2 = companies['list2'].sample(frac=1).to_list()\n",
        "\n",
        "print('Subsample of list 1: \\n', list1[0:8])\n",
        "print('\\nSubample of list 2: \\n', list2[0:8])"
      ]
    },
    {
      "cell_type": "markdown",
      "metadata": {
        "id": "Dr09-NAu-12m"
      },
      "source": [
        "Application of FuzzyWuzzy and StringPairFinder algorithms using the two lists."
      ]
    },
    {
      "cell_type": "code",
      "execution_count": 6,
      "metadata": {},
      "outputs": [],
      "source": [
        "fuzzy_output = fuzzywuzzy_match_strings(list1, list2)"
      ]
    },
    {
      "cell_type": "code",
      "execution_count": 7,
      "metadata": {
        "id": "dJBXlVv0-12o"
      },
      "outputs": [],
      "source": [
        "spf_output = spf.match_strings(list1, list2)"
      ]
    },
    {
      "cell_type": "markdown",
      "metadata": {
        "id": "hclF_qji-12o"
      },
      "source": [
        "Creation of a dataset regrouping the results of the two algorithms and calculation of a column representing the success."
      ]
    },
    {
      "cell_type": "code",
      "execution_count": 8,
      "metadata": {},
      "outputs": [
        {
          "data": {
            "text/html": [
              "<div>\n",
              "<style scoped>\n",
              "    .dataframe tbody tr th:only-of-type {\n",
              "        vertical-align: middle;\n",
              "    }\n",
              "\n",
              "    .dataframe tbody tr th {\n",
              "        vertical-align: top;\n",
              "    }\n",
              "\n",
              "    .dataframe thead th {\n",
              "        text-align: right;\n",
              "    }\n",
              "</style>\n",
              "<table border=\"1\" class=\"dataframe\">\n",
              "  <thead>\n",
              "    <tr style=\"text-align: right;\">\n",
              "      <th></th>\n",
              "      <th>source</th>\n",
              "      <th>true_value</th>\n",
              "      <th>fuzzy_prediction</th>\n",
              "      <th>spf_prediction</th>\n",
              "    </tr>\n",
              "  </thead>\n",
              "  <tbody>\n",
              "    <tr>\n",
              "      <th>0</th>\n",
              "      <td>UroLogix</td>\n",
              "      <td>UROLOGIX</td>\n",
              "      <td>UROLOGIX</td>\n",
              "      <td>UROLOGIX</td>\n",
              "    </tr>\n",
              "    <tr>\n",
              "      <th>1</th>\n",
              "      <td>Tesla Motors</td>\n",
              "      <td>TESLA INC</td>\n",
              "      <td>THERMONOR AS</td>\n",
              "      <td>TESLA INC</td>\n",
              "    </tr>\n",
              "    <tr>\n",
              "      <th>2</th>\n",
              "      <td>Lopez, John</td>\n",
              "      <td>John Lopez</td>\n",
              "      <td>GHERINI, JOHN</td>\n",
              "      <td>John Lopez</td>\n",
              "    </tr>\n",
              "    <tr>\n",
              "      <th>3</th>\n",
              "      <td>TSC Group</td>\n",
              "      <td>TSC INC</td>\n",
              "      <td>TSX GROUP</td>\n",
              "      <td>TSX GROUP</td>\n",
              "    </tr>\n",
              "    <tr>\n",
              "      <th>4</th>\n",
              "      <td>Bockorny Group</td>\n",
              "      <td>BOCKORNY GROUP</td>\n",
              "      <td>BOCKORNY GROUP</td>\n",
              "      <td>BOCKORNY GROUP</td>\n",
              "    </tr>\n",
              "  </tbody>\n",
              "</table>\n",
              "</div>"
            ],
            "text/plain": [
              "           source      true_value fuzzy_prediction  spf_prediction\n",
              "0        UroLogix        UROLOGIX         UROLOGIX        UROLOGIX\n",
              "1    Tesla Motors       TESLA INC     THERMONOR AS       TESLA INC\n",
              "2     Lopez, John      John Lopez    GHERINI, JOHN      John Lopez\n",
              "3       TSC Group         TSC INC        TSX GROUP       TSX GROUP\n",
              "4  Bockorny Group  BOCKORNY GROUP   BOCKORNY GROUP  BOCKORNY GROUP"
            ]
          },
          "execution_count": 8,
          "metadata": {},
          "output_type": "execute_result"
        }
      ],
      "source": [
        "tab = companies.rename(columns={'list1': 'source', 'list2': 'true_value'})\n",
        "tab['fuzzy_prediction'] = tab['source'].map(fuzzy_output)\n",
        "tab['spf_prediction'] = tab['source'].map(spf_output)\n",
        "\n",
        "tab.head()"
      ]
    },
    {
      "cell_type": "code",
      "execution_count": 9,
      "metadata": {},
      "outputs": [
        {
          "name": "stdout",
          "output_type": "stream",
          "text": [
            "Fuzzy Wuzzy -> Percentage of success: 85.2%\n",
            "StringPairFinder -> Percentage of success: 94.0%\n"
          ]
        }
      ],
      "source": [
        "accuracy_fuzzy = (tab['fuzzy_prediction'] == tab['true_value']).mean()\n",
        "accuracy_spf = (tab['spf_prediction'] == tab['true_value']).mean()\n",
        "\n",
        "print(f\"Fuzzy Wuzzy -> Percentage of success: {100 * accuracy_fuzzy}%\")\n",
        "print(f\"StringPairFinder -> Percentage of success: {100 * accuracy_spf}%\")"
      ]
    }
  ],
  "metadata": {
    "colab": {
      "include_colab_link": true,
      "provenance": []
    },
    "kernelspec": {
      "display_name": "envclassic",
      "language": "python",
      "name": "python3"
    },
    "language_info": {
      "codemirror_mode": {
        "name": "ipython",
        "version": 3
      },
      "file_extension": ".py",
      "mimetype": "text/x-python",
      "name": "python",
      "nbconvert_exporter": "python",
      "pygments_lexer": "ipython3",
      "version": "3.10.13"
    },
    "vscode": {
      "interpreter": {
        "hash": "cb748ff98c322584f59cd1e8a2827cfa77c29341df20d80f12b2876307560292"
      }
    }
  },
  "nbformat": 4,
  "nbformat_minor": 0
}
