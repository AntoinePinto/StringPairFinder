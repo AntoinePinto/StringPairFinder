{
  "cells": [
    {
      "cell_type": "markdown",
      "metadata": {
        "id": "view-in-github",
        "colab_type": "text"
      },
      "source": [
        "<a href=\"https://colab.research.google.com/github/AntoinePinto/string-pair-finder/blob/master/evaluation/evaluation.ipynb\" target=\"_parent\"><img src=\"https://colab.research.google.com/assets/colab-badge.svg\" alt=\"Open In Colab\"/></a>"
      ]
    },
    {
      "cell_type": "code",
      "source": [
        "!git clone https://github.com/AntoinePinto/string-pair-finder.git\n",
        "import sys\n",
        "sys.path.append('/content/string-pair-finder')"
      ],
      "metadata": {
        "id": "Ilyi1TdG-4NK"
      },
      "execution_count": null,
      "outputs": []
    },
    {
      "cell_type": "code",
      "execution_count": 15,
      "metadata": {
        "id": "b7A9Rl6oiDdK"
      },
      "outputs": [],
      "source": [
        "import pandas as pd\n",
        "import numpy as np\n",
        "\n",
        "import string_pair_finder"
      ]
    },
    {
      "cell_type": "markdown",
      "metadata": {
        "id": "stxsAtpZ-12e"
      },
      "source": [
        "The performance of StringPairFinder will be compared with that of the already existing Fuzzy Wuzzy library. This library allows to calculate a similarity score between two strings of characters."
      ]
    },
    {
      "cell_type": "code",
      "source": [
        "!pip install fuzzywuzzy"
      ],
      "metadata": {
        "colab": {
          "base_uri": "https://localhost:8080/"
        },
        "id": "D3bsWL6OAF-k",
        "outputId": "f9e0aea4-6e32-488c-e76a-4d15becb9dea"
      },
      "execution_count": 10,
      "outputs": [
        {
          "output_type": "stream",
          "name": "stdout",
          "text": [
            "Looking in indexes: https://pypi.org/simple, https://us-python.pkg.dev/colab-wheels/public/simple/\n",
            "Collecting fuzzywuzzy\n",
            "  Downloading fuzzywuzzy-0.18.0-py2.py3-none-any.whl (18 kB)\n",
            "Installing collected packages: fuzzywuzzy\n",
            "Successfully installed fuzzywuzzy-0.18.0\n"
          ]
        }
      ]
    },
    {
      "cell_type": "code",
      "execution_count": 11,
      "metadata": {
        "colab": {
          "base_uri": "https://localhost:8080/"
        },
        "id": "m8NNQjdG-12g",
        "outputId": "fb805838-6f50-40bf-92bb-27333627ebb2"
      },
      "outputs": [
        {
          "output_type": "stream",
          "name": "stderr",
          "text": [
            "/usr/local/lib/python3.8/dist-packages/fuzzywuzzy/fuzz.py:11: UserWarning: Using slow pure-python SequenceMatcher. Install python-Levenshtein to remove this warning\n",
            "  warnings.warn('Using slow pure-python SequenceMatcher. Install python-Levenshtein to remove this warning')\n"
          ]
        }
      ],
      "source": [
        "from itertools import product\n",
        "from fuzzywuzzy import fuzz\n",
        "\n",
        "def fuzzy_wuzzy_pair_finder(list1: list, list2: list) -> pd.DataFrame:\n",
        "  \"\"\"Returns each string in list 1 associated with the string in list 2 with \n",
        "  the highest similarity according to FuzzyWuzzy similarity score\"\"\"\n",
        "  combinations = list(product(list1, list2))\n",
        "  data = pd.DataFrame(combinations, columns=['list1', 'list2'])\n",
        "  data['score'] = [fuzz.ratio(i, j) for i, j in combinations]\n",
        "  data = data.loc[data.groupby(\"list1\")[\"score\"].idxmax()].set_index('list1')\n",
        "\n",
        "  return data"
      ]
    },
    {
      "cell_type": "markdown",
      "metadata": {
        "id": "H5Jtu_iY-12i"
      },
      "source": [
        "The dataset used for this example contains 300 differently coded company names. The objective is to use an algorithm to find the corresponding pairs."
      ]
    },
    {
      "cell_type": "code",
      "execution_count": 13,
      "metadata": {
        "colab": {
          "base_uri": "https://localhost:8080/",
          "height": 423
        },
        "id": "ojkl4J_K-12j",
        "outputId": "418eeeb4-cb4b-49e1-aca0-326357dd6692"
      },
      "outputs": [
        {
          "output_type": "execute_result",
          "data": {
            "text/plain": [
              "              list1           list2\n",
              "0          UroLogix        UROLOGIX\n",
              "1      Tesla Motors       TESLA INC\n",
              "2       Lopez, John      John Lopez\n",
              "3         TSC Group         TSC INC\n",
              "4    Bockorny Group  BOCKORNY GROUP\n",
              "..              ...             ...\n",
              "295      Chubb Corp      CHUBB CORP\n",
              "296   Regence Group   REGENCE GROUP\n",
              "297     XBRL US Inc   XBRL US, INC.\n",
              "298         ESA Inc             ESA\n",
              "299    UniGroup Inc        UNIGROUP\n",
              "\n",
              "[300 rows x 2 columns]"
            ],
            "text/html": [
              "\n",
              "  <div id=\"df-221fdbf7-5e59-4b62-bdef-3e7feabad692\">\n",
              "    <div class=\"colab-df-container\">\n",
              "      <div>\n",
              "<style scoped>\n",
              "    .dataframe tbody tr th:only-of-type {\n",
              "        vertical-align: middle;\n",
              "    }\n",
              "\n",
              "    .dataframe tbody tr th {\n",
              "        vertical-align: top;\n",
              "    }\n",
              "\n",
              "    .dataframe thead th {\n",
              "        text-align: right;\n",
              "    }\n",
              "</style>\n",
              "<table border=\"1\" class=\"dataframe\">\n",
              "  <thead>\n",
              "    <tr style=\"text-align: right;\">\n",
              "      <th></th>\n",
              "      <th>list1</th>\n",
              "      <th>list2</th>\n",
              "    </tr>\n",
              "  </thead>\n",
              "  <tbody>\n",
              "    <tr>\n",
              "      <th>0</th>\n",
              "      <td>UroLogix</td>\n",
              "      <td>UROLOGIX</td>\n",
              "    </tr>\n",
              "    <tr>\n",
              "      <th>1</th>\n",
              "      <td>Tesla Motors</td>\n",
              "      <td>TESLA INC</td>\n",
              "    </tr>\n",
              "    <tr>\n",
              "      <th>2</th>\n",
              "      <td>Lopez, John</td>\n",
              "      <td>John Lopez</td>\n",
              "    </tr>\n",
              "    <tr>\n",
              "      <th>3</th>\n",
              "      <td>TSC Group</td>\n",
              "      <td>TSC INC</td>\n",
              "    </tr>\n",
              "    <tr>\n",
              "      <th>4</th>\n",
              "      <td>Bockorny Group</td>\n",
              "      <td>BOCKORNY GROUP</td>\n",
              "    </tr>\n",
              "    <tr>\n",
              "      <th>...</th>\n",
              "      <td>...</td>\n",
              "      <td>...</td>\n",
              "    </tr>\n",
              "    <tr>\n",
              "      <th>295</th>\n",
              "      <td>Chubb Corp</td>\n",
              "      <td>CHUBB CORP</td>\n",
              "    </tr>\n",
              "    <tr>\n",
              "      <th>296</th>\n",
              "      <td>Regence Group</td>\n",
              "      <td>REGENCE GROUP</td>\n",
              "    </tr>\n",
              "    <tr>\n",
              "      <th>297</th>\n",
              "      <td>XBRL US Inc</td>\n",
              "      <td>XBRL US, INC.</td>\n",
              "    </tr>\n",
              "    <tr>\n",
              "      <th>298</th>\n",
              "      <td>ESA Inc</td>\n",
              "      <td>ESA</td>\n",
              "    </tr>\n",
              "    <tr>\n",
              "      <th>299</th>\n",
              "      <td>UniGroup Inc</td>\n",
              "      <td>UNIGROUP</td>\n",
              "    </tr>\n",
              "  </tbody>\n",
              "</table>\n",
              "<p>300 rows × 2 columns</p>\n",
              "</div>\n",
              "      <button class=\"colab-df-convert\" onclick=\"convertToInteractive('df-221fdbf7-5e59-4b62-bdef-3e7feabad692')\"\n",
              "              title=\"Convert this dataframe to an interactive table.\"\n",
              "              style=\"display:none;\">\n",
              "        \n",
              "  <svg xmlns=\"http://www.w3.org/2000/svg\" height=\"24px\"viewBox=\"0 0 24 24\"\n",
              "       width=\"24px\">\n",
              "    <path d=\"M0 0h24v24H0V0z\" fill=\"none\"/>\n",
              "    <path d=\"M18.56 5.44l.94 2.06.94-2.06 2.06-.94-2.06-.94-.94-2.06-.94 2.06-2.06.94zm-11 1L8.5 8.5l.94-2.06 2.06-.94-2.06-.94L8.5 2.5l-.94 2.06-2.06.94zm10 10l.94 2.06.94-2.06 2.06-.94-2.06-.94-.94-2.06-.94 2.06-2.06.94z\"/><path d=\"M17.41 7.96l-1.37-1.37c-.4-.4-.92-.59-1.43-.59-.52 0-1.04.2-1.43.59L10.3 9.45l-7.72 7.72c-.78.78-.78 2.05 0 2.83L4 21.41c.39.39.9.59 1.41.59.51 0 1.02-.2 1.41-.59l7.78-7.78 2.81-2.81c.8-.78.8-2.07 0-2.86zM5.41 20L4 18.59l7.72-7.72 1.47 1.35L5.41 20z\"/>\n",
              "  </svg>\n",
              "      </button>\n",
              "      \n",
              "  <style>\n",
              "    .colab-df-container {\n",
              "      display:flex;\n",
              "      flex-wrap:wrap;\n",
              "      gap: 12px;\n",
              "    }\n",
              "\n",
              "    .colab-df-convert {\n",
              "      background-color: #E8F0FE;\n",
              "      border: none;\n",
              "      border-radius: 50%;\n",
              "      cursor: pointer;\n",
              "      display: none;\n",
              "      fill: #1967D2;\n",
              "      height: 32px;\n",
              "      padding: 0 0 0 0;\n",
              "      width: 32px;\n",
              "    }\n",
              "\n",
              "    .colab-df-convert:hover {\n",
              "      background-color: #E2EBFA;\n",
              "      box-shadow: 0px 1px 2px rgba(60, 64, 67, 0.3), 0px 1px 3px 1px rgba(60, 64, 67, 0.15);\n",
              "      fill: #174EA6;\n",
              "    }\n",
              "\n",
              "    [theme=dark] .colab-df-convert {\n",
              "      background-color: #3B4455;\n",
              "      fill: #D2E3FC;\n",
              "    }\n",
              "\n",
              "    [theme=dark] .colab-df-convert:hover {\n",
              "      background-color: #434B5C;\n",
              "      box-shadow: 0px 1px 3px 1px rgba(0, 0, 0, 0.15);\n",
              "      filter: drop-shadow(0px 1px 2px rgba(0, 0, 0, 0.3));\n",
              "      fill: #FFFFFF;\n",
              "    }\n",
              "  </style>\n",
              "\n",
              "      <script>\n",
              "        const buttonEl =\n",
              "          document.querySelector('#df-221fdbf7-5e59-4b62-bdef-3e7feabad692 button.colab-df-convert');\n",
              "        buttonEl.style.display =\n",
              "          google.colab.kernel.accessAllowed ? 'block' : 'none';\n",
              "\n",
              "        async function convertToInteractive(key) {\n",
              "          const element = document.querySelector('#df-221fdbf7-5e59-4b62-bdef-3e7feabad692');\n",
              "          const dataTable =\n",
              "            await google.colab.kernel.invokeFunction('convertToInteractive',\n",
              "                                                     [key], {});\n",
              "          if (!dataTable) return;\n",
              "\n",
              "          const docLinkHtml = 'Like what you see? Visit the ' +\n",
              "            '<a target=\"_blank\" href=https://colab.research.google.com/notebooks/data_table.ipynb>data table notebook</a>'\n",
              "            + ' to learn more about interactive tables.';\n",
              "          element.innerHTML = '';\n",
              "          dataTable['output_type'] = 'display_data';\n",
              "          await google.colab.output.renderOutput(dataTable, element);\n",
              "          const docLink = document.createElement('div');\n",
              "          docLink.innerHTML = docLinkHtml;\n",
              "          element.appendChild(docLink);\n",
              "        }\n",
              "      </script>\n",
              "    </div>\n",
              "  </div>\n",
              "  "
            ]
          },
          "metadata": {},
          "execution_count": 13
        }
      ],
      "source": [
        "companies = pd.read_csv('/content/string-pair-finder/evaluation/data/companies.csv').iloc[0:300]\n",
        "companies"
      ]
    },
    {
      "cell_type": "markdown",
      "metadata": {
        "id": "2n__tx47-12l"
      },
      "source": [
        "Let's simulate a situation where we have two lists containing the names of companies completely mixed up."
      ]
    },
    {
      "cell_type": "code",
      "execution_count": 14,
      "metadata": {
        "colab": {
          "base_uri": "https://localhost:8080/"
        },
        "id": "JAl6obN5-12l",
        "outputId": "d460c673-ad63-4c54-e551-e4b4aa9c5996"
      },
      "outputs": [
        {
          "output_type": "stream",
          "name": "stdout",
          "text": [
            "Subsample of list 1: \n",
            " ['ESPP Coalition', 'Nanomech LLC', 'Abiomed Inc', 'Westvaco Corp', 'Kilkenny, Alan', 'Symonds NA', 'Lundbeck Inc', 'Curium US']\n",
            "\n",
            "Subample of list 2: \n",
            " ['NOBLE VENTURES', 'HNTB CORP', 'KENNAMETAL INC', 'FLYTECOMM, INC', 'ENTIA VENTURES', 'AMGEN, INC.', 'U S STEEL CORP', 'AQUILA INC']\n"
          ]
        }
      ],
      "source": [
        "list1 = companies['list1'].sample(frac=1).to_list()\n",
        "list2 = companies['list2'].sample(frac=1).to_list()\n",
        "\n",
        "print('Subsample of list 1: \\n', list1[0:8])\n",
        "print('\\nSubample of list 2: \\n', list2[0:8])"
      ]
    },
    {
      "cell_type": "markdown",
      "metadata": {
        "id": "Dr09-NAu-12m"
      },
      "source": [
        "Application of StringPairFinder and FuzzyWuzzyPairFinder algorithms using the two lists."
      ]
    },
    {
      "cell_type": "code",
      "execution_count": 16,
      "metadata": {
        "id": "dJBXlVv0-12o"
      },
      "outputs": [],
      "source": [
        "SPF_output = string_pair_finder.get_pairs(list1, list2)\n",
        "fuzzy_output = fuzzy_wuzzy_pair_finder(list1, list2)"
      ]
    },
    {
      "cell_type": "markdown",
      "metadata": {
        "id": "hclF_qji-12o"
      },
      "source": [
        "Creation of a dataset regrouping the results of the two algorithms and calculation of a column representing the success."
      ]
    },
    {
      "cell_type": "code",
      "execution_count": 17,
      "metadata": {
        "id": "iuzV6v7t-12p"
      },
      "outputs": [],
      "source": [
        "results = pd.DataFrame({'match_StringPairFinder': SPF_output['list2'],\n",
        "                        'match_fuzzy': fuzzy_output['list2'],\n",
        "                        'actual' : companies.set_index('list1')['list2']})\n",
        "results['success_StringPairFinder'] = np.where(results['match_StringPairFinder'] == results['actual'], 'success', 'fail')\n",
        "results['success_fuzzy'] = np.where(results['match_fuzzy'] == results['actual'], 'success', 'fail')"
      ]
    },
    {
      "cell_type": "markdown",
      "metadata": {
        "id": "LJzQtR96-12q"
      },
      "source": [
        "The StringPairFinder algorithm succeeded in matching 276 of the 300 company names (92% success rate).\n",
        "\n",
        "The FuzzyWuzzy based algorithm only managed to link 98 out of 300 company names (32% success rate)."
      ]
    },
    {
      "cell_type": "code",
      "execution_count": 18,
      "metadata": {
        "colab": {
          "base_uri": "https://localhost:8080/"
        },
        "id": "2JjykSMX-12q",
        "outputId": "64c5c7be-fb8c-4069-ce4d-a34ca0bd1bb1"
      },
      "outputs": [
        {
          "output_type": "execute_result",
          "data": {
            "text/plain": [
              "success    276\n",
              "fail        24\n",
              "Name: success_StringPairFinder, dtype: int64"
            ]
          },
          "metadata": {},
          "execution_count": 18
        }
      ],
      "source": [
        "results['success_StringPairFinder'].value_counts()"
      ]
    },
    {
      "cell_type": "code",
      "execution_count": 19,
      "metadata": {
        "colab": {
          "base_uri": "https://localhost:8080/"
        },
        "id": "kGbSg--b-12r",
        "outputId": "c0dcc0bf-0eef-492e-afba-7612067391bf"
      },
      "outputs": [
        {
          "output_type": "execute_result",
          "data": {
            "text/plain": [
              "fail       202\n",
              "success     98\n",
              "Name: success_fuzzy, dtype: int64"
            ]
          },
          "metadata": {},
          "execution_count": 19
        }
      ],
      "source": [
        "results['success_fuzzy'].value_counts()"
      ]
    }
  ],
  "metadata": {
    "colab": {
      "provenance": [],
      "include_colab_link": true
    },
    "kernelspec": {
      "display_name": "envclassic",
      "language": "python",
      "name": "python3"
    },
    "language_info": {
      "codemirror_mode": {
        "name": "ipython",
        "version": 3
      },
      "file_extension": ".py",
      "mimetype": "text/x-python",
      "name": "python",
      "nbconvert_exporter": "python",
      "pygments_lexer": "ipython3",
      "version": "3.7.15"
    },
    "vscode": {
      "interpreter": {
        "hash": "cb748ff98c322584f59cd1e8a2827cfa77c29341df20d80f12b2876307560292"
      }
    }
  },
  "nbformat": 4,
  "nbformat_minor": 0
}